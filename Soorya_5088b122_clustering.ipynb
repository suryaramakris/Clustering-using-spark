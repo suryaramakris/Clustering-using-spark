{
  "cells": [
    {
      "cell_type": "markdown",
      "metadata": {
        "id": "aUkhZeQSAp67"
      },
      "source": [
        "# Clustering Consulting Project \n",
        "\n",
        "A large technology firm needs your help, they've been hacked! Luckily their forensic engineers have grabbed valuable data about the hacks, including information like session time,locations, wpm typing speed, etc. The forensic engineer relates to you what she has been able to figure out so far, she has been able to grab meta data of each session that the hackers used to connect to their servers. These are the features of the data:\n",
        "\n",
        "* 'Session_Connection_Time': How long the session lasted in minutes\n",
        "* 'Bytes Transferred': Number of MB transferred during session\n",
        "* 'Kali_Trace_Used': Indicates if the hacker was using Kali Linux\n",
        "* 'Servers_Corrupted': Number of server corrupted during the attack\n",
        "* 'Pages_Corrupted': Number of pages illegally accessed\n",
        "* 'Location': Location attack came from (Probably useless because the hackers used VPNs)\n",
        "* 'WPM_Typing_Speed': Their estimated typing speed based on session logs.\n",
        "\n",
        "\n",
        "The technology firm has 3 potential hackers that perpetrated the attack. Their certain of the first two hackers but they aren't very sure if the third hacker was involved or not. They have requested your help! Can you help figure out whether or not the third suspect had anything to do with the attacks, or was it just two hackers? It's probably not possible to know for sure, but maybe what you've just learned about Clustering can help!\n",
        "\n",
        "**One last key fact, the forensic engineer knows that the hackers trade off attacks. Meaning they should each have roughly the same amount of attacks. For example if there were 100 total attacks, then in a 2 hacker situation each should have about 50 hacks, in a three hacker situation each would have about 33 hacks. The engineer believes this is the key element to solving this, but doesn't know how to distinguish this unlabeled data into groups of hackers.**"
      ]
    },
    {
      "cell_type": "code",
      "source": [
        "#Install Java JDK of version greater than 8\n",
        "#Get the spark zip file from apache organiztion \n",
        "#Unzipping the file after getting it\n",
        "#From that Install findspark \n",
        "!apt-get install openjdk-8-jdk-headless -qq > /dev/null\n",
        "!wget -q https://archive.apache.org/dist/spark/spark-3.0.1/spark-3.0.1-bin-hadoop2.7.tgz\n",
        "!tar xf spark-3.0.1-bin-hadoop2.7.tgz\n",
        "!pip install -q findspark"
      ],
      "metadata": {
        "id": "QnXMmtE6BSmp"
      },
      "execution_count": 167,
      "outputs": []
    },
    {
      "cell_type": "code",
      "source": [
        "#Creating an environment for Java and spark to work with it\n",
        "import os\n",
        "import sys\n",
        "os.environ[\"JAVA_HOME\"] = \"/usr/lib/jvm/java-8-openjdk-amd64\"\n",
        "os.environ[\"SPARK_HOME\"] = \"/content//spark-3.0.1-bin-hadoop2.7\""
      ],
      "metadata": {
        "id": "xTX4C1GZCvg7"
      },
      "execution_count": 168,
      "outputs": []
    },
    {
      "cell_type": "code",
      "source": [
        "#Initalizing the findspark \n",
        "import findspark\n",
        "findspark.init()\n",
        "\n",
        "#Creating an entry point for spark using the spark session\n",
        "from pyspark.sql import SparkSession\n",
        "spark = SparkSession.builder.master(\"local[*]\").getOrCreate()"
      ],
      "metadata": {
        "id": "bU_OagzqCxXz"
      },
      "execution_count": 169,
      "outputs": []
    },
    {
      "cell_type": "code",
      "source": [
        "!pip install chart_studio\n",
        "#importing all the necessary libraries for plotting\n",
        "import matplotlib.pyplot as plt\n",
        "import seaborn as sns\n",
        "import chart_studio\n",
        "import plotly\n",
        "chart_studio.tools.set_credentials_file(username='soorya0809',api_key='AYmhvGClzfoSzyj5pC0w')\n",
        "import plotly.figure_factory as ff\n",
        "import chart_studio.plotly as py\n",
        "import plotly.offline as pyoff\n",
        "import plotly.graph_objects as go\n",
        "import warnings\n",
        "### Initialize settings \n",
        "sns.set_style('whitegrid')\n",
        "sns.set(color_codes=True)\n",
        "warnings.filterwarnings('ignore')\n",
        "pyoff.init_notebook_mode(connected=True)\n",
        "get_ipython().magic('matplotlib inline')"
      ],
      "metadata": {
        "colab": {
          "base_uri": "https://localhost:8080/",
          "height": 228
        },
        "id": "lrBCda58J5uU",
        "outputId": "b5d49d30-6013-45eb-d3a0-16241bd24fdc"
      },
      "execution_count": 170,
      "outputs": [
        {
          "output_type": "stream",
          "name": "stdout",
          "text": [
            "Looking in indexes: https://pypi.org/simple, https://us-python.pkg.dev/colab-wheels/public/simple/\n",
            "Requirement already satisfied: chart_studio in /usr/local/lib/python3.8/dist-packages (1.1.0)\n",
            "Requirement already satisfied: six in /usr/local/lib/python3.8/dist-packages (from chart_studio) (1.15.0)\n",
            "Requirement already satisfied: requests in /usr/local/lib/python3.8/dist-packages (from chart_studio) (2.23.0)\n",
            "Requirement already satisfied: retrying>=1.3.3 in /usr/local/lib/python3.8/dist-packages (from chart_studio) (1.3.4)\n",
            "Requirement already satisfied: plotly in /usr/local/lib/python3.8/dist-packages (from chart_studio) (5.5.0)\n",
            "Requirement already satisfied: tenacity>=6.2.0 in /usr/local/lib/python3.8/dist-packages (from plotly->chart_studio) (8.1.0)\n",
            "Requirement already satisfied: certifi>=2017.4.17 in /usr/local/lib/python3.8/dist-packages (from requests->chart_studio) (2022.12.7)\n",
            "Requirement already satisfied: chardet<4,>=3.0.2 in /usr/local/lib/python3.8/dist-packages (from requests->chart_studio) (3.0.4)\n",
            "Requirement already satisfied: urllib3!=1.25.0,!=1.25.1,<1.26,>=1.21.1 in /usr/local/lib/python3.8/dist-packages (from requests->chart_studio) (1.24.3)\n",
            "Requirement already satisfied: idna<3,>=2.5 in /usr/local/lib/python3.8/dist-packages (from requests->chart_studio) (2.10)\n"
          ]
        },
        {
          "output_type": "display_data",
          "data": {
            "text/html": [
              "        <script type=\"text/javascript\">\n",
              "        window.PlotlyConfig = {MathJaxConfig: 'local'};\n",
              "        if (window.MathJax) {MathJax.Hub.Config({SVG: {font: \"STIX-Web\"}});}\n",
              "        if (typeof require !== 'undefined') {\n",
              "        require.undef(\"plotly\");\n",
              "        requirejs.config({\n",
              "            paths: {\n",
              "                'plotly': ['https://cdn.plot.ly/plotly-2.8.3.min']\n",
              "            }\n",
              "        });\n",
              "        require(['plotly'], function(Plotly) {\n",
              "            window._Plotly = Plotly;\n",
              "        });\n",
              "        }\n",
              "        </script>\n",
              "        "
            ]
          },
          "metadata": {}
        }
      ]
    },
    {
      "cell_type": "code",
      "source": [
        "from google.colab import drive\n",
        "drive.mount('/content/drive')"
      ],
      "metadata": {
        "colab": {
          "base_uri": "https://localhost:8080/"
        },
        "id": "lxy5WqucCzKm",
        "outputId": "b249abb2-19c5-44ab-8db6-8622e9f58dd3"
      },
      "execution_count": 171,
      "outputs": [
        {
          "output_type": "stream",
          "name": "stdout",
          "text": [
            "Drive already mounted at /content/drive; to attempt to forcibly remount, call drive.mount(\"/content/drive\", force_remount=True).\n"
          ]
        }
      ]
    },
    {
      "cell_type": "code",
      "source": [
        "#loading the data file\n",
        "sdf = spark.read.format(\"csv\")\\\n",
        "      .option(\"header\",\"true\")\\\n",
        "      .option(\"inferSchema\",\"true\")\\\n",
        "      .load(\"/content/drive/MyDrive/Datasets/spark_datasets/hack_data.csv\")"
      ],
      "metadata": {
        "id": "Gg5zJPYuDI6R"
      },
      "execution_count": 172,
      "outputs": []
    },
    {
      "cell_type": "code",
      "source": [
        "# to view top five rows of dataframe\n",
        "sdf.show(5)"
      ],
      "metadata": {
        "colab": {
          "base_uri": "https://localhost:8080/"
        },
        "id": "owdVECQUDd-l",
        "outputId": "52c4c803-eb71-41fa-86d5-a407892d8fe6"
      },
      "execution_count": 173,
      "outputs": [
        {
          "output_type": "stream",
          "name": "stdout",
          "text": [
            "+-----------------------+-----------------+---------------+-----------------+---------------+--------------------+----------------+\n",
            "|Session_Connection_Time|Bytes Transferred|Kali_Trace_Used|Servers_Corrupted|Pages_Corrupted|            Location|WPM_Typing_Speed|\n",
            "+-----------------------+-----------------+---------------+-----------------+---------------+--------------------+----------------+\n",
            "|                    8.0|           391.09|              1|             2.96|            7.0|            Slovenia|           72.37|\n",
            "|                   20.0|           720.99|              0|             3.04|            9.0|British Virgin Is...|           69.08|\n",
            "|                   31.0|           356.32|              1|             3.71|            8.0|             Tokelau|           70.58|\n",
            "|                    2.0|           228.08|              1|             2.48|            8.0|             Bolivia|            70.8|\n",
            "|                   20.0|            408.5|              0|             3.57|            8.0|                Iraq|           71.28|\n",
            "+-----------------------+-----------------+---------------+-----------------+---------------+--------------------+----------------+\n",
            "only showing top 5 rows\n",
            "\n"
          ]
        }
      ]
    },
    {
      "cell_type": "code",
      "source": [
        "#number of rows\n",
        "sdf.count()"
      ],
      "metadata": {
        "colab": {
          "base_uri": "https://localhost:8080/"
        },
        "id": "yW22buT5Dv97",
        "outputId": "bb2571f8-a79a-4eef-c862-3e292d4c12aa"
      },
      "execution_count": 174,
      "outputs": [
        {
          "output_type": "execute_result",
          "data": {
            "text/plain": [
              "334"
            ]
          },
          "metadata": {},
          "execution_count": 174
        }
      ]
    },
    {
      "cell_type": "code",
      "source": [
        "#number of columns\n",
        "len(sdf.columns)"
      ],
      "metadata": {
        "colab": {
          "base_uri": "https://localhost:8080/"
        },
        "id": "Pj5QiK1bEGKt",
        "outputId": "6b9e4f51-bea6-497a-ca1c-b0032ca4f22c"
      },
      "execution_count": 175,
      "outputs": [
        {
          "output_type": "execute_result",
          "data": {
            "text/plain": [
              "7"
            ]
          },
          "metadata": {},
          "execution_count": 175
        }
      ]
    },
    {
      "cell_type": "code",
      "source": [
        "#printing the schema\n",
        "sdf.printSchema()"
      ],
      "metadata": {
        "colab": {
          "base_uri": "https://localhost:8080/"
        },
        "id": "94apVpaxDjFB",
        "outputId": "f83d05e1-fb9e-49f9-fd87-5164c7b5841e"
      },
      "execution_count": 176,
      "outputs": [
        {
          "output_type": "stream",
          "name": "stdout",
          "text": [
            "root\n",
            " |-- Session_Connection_Time: double (nullable = true)\n",
            " |-- Bytes Transferred: double (nullable = true)\n",
            " |-- Kali_Trace_Used: integer (nullable = true)\n",
            " |-- Servers_Corrupted: double (nullable = true)\n",
            " |-- Pages_Corrupted: double (nullable = true)\n",
            " |-- Location: string (nullable = true)\n",
            " |-- WPM_Typing_Speed: double (nullable = true)\n",
            "\n"
          ]
        }
      ]
    },
    {
      "cell_type": "code",
      "source": [
        "# to get the statistics of data\n",
        "sdf.describe().show()"
      ],
      "metadata": {
        "colab": {
          "base_uri": "https://localhost:8080/"
        },
        "id": "I9i-BG5iGaVo",
        "outputId": "6e8243eb-0fae-4f5c-f9de-3b6f017a31e2"
      },
      "execution_count": 177,
      "outputs": [
        {
          "output_type": "stream",
          "name": "stdout",
          "text": [
            "+-------+-----------------------+------------------+------------------+-----------------+------------------+-----------+------------------+\n",
            "|summary|Session_Connection_Time| Bytes Transferred|   Kali_Trace_Used|Servers_Corrupted|   Pages_Corrupted|   Location|  WPM_Typing_Speed|\n",
            "+-------+-----------------------+------------------+------------------+-----------------+------------------+-----------+------------------+\n",
            "|  count|                    334|               334|               334|              334|               334|        334|               334|\n",
            "|   mean|     30.008982035928145| 607.2452694610777|0.5119760479041916|5.258502994011977|10.838323353293413|       null|57.342395209580864|\n",
            "| stddev|     14.088200614636158|286.33593163576757|0.5006065264451406| 2.30190693339697|  3.06352633036022|       null| 13.41106336843464|\n",
            "|    min|                    1.0|              10.0|                 0|              1.0|               6.0|Afghanistan|              40.0|\n",
            "|    max|                   60.0|            1330.5|                 1|             10.0|              15.0|   Zimbabwe|              75.0|\n",
            "+-------+-----------------------+------------------+------------------+-----------------+------------------+-----------+------------------+\n",
            "\n"
          ]
        }
      ]
    },
    {
      "cell_type": "markdown",
      "source": [
        "# EDA"
      ],
      "metadata": {
        "id": "BM0c5uDoEYkQ"
      }
    },
    {
      "cell_type": "code",
      "source": [
        "#create a temp table to run sql quires\n",
        "sdf.createOrReplaceTempView('sqldf')"
      ],
      "metadata": {
        "id": "p2Xbf666MRaz"
      },
      "execution_count": 178,
      "outputs": []
    },
    {
      "cell_type": "code",
      "source": [
        "sdf.groupBy(\"Kali_Trace_Used\").count().show()"
      ],
      "metadata": {
        "colab": {
          "base_uri": "https://localhost:8080/"
        },
        "id": "lCL3NDS2EYMn",
        "outputId": "22a6af88-868c-463a-c1f2-e9accd8fa153"
      },
      "execution_count": 179,
      "outputs": [
        {
          "output_type": "stream",
          "name": "stdout",
          "text": [
            "+---------------+-----+\n",
            "|Kali_Trace_Used|count|\n",
            "+---------------+-----+\n",
            "|              1|  171|\n",
            "|              0|  163|\n",
            "+---------------+-----+\n",
            "\n"
          ]
        }
      ]
    },
    {
      "cell_type": "markdown",
      "source": [
        "# Conclusion on Linux system usage\n",
        "from above analysis we can conclude here that about 50% of time the hackers uses the Linux OS to perform attacks."
      ],
      "metadata": {
        "id": "oi_f1JVrcfig"
      }
    },
    {
      "cell_type": "code",
      "source": [
        "# to get unique values in location column\n",
        "sdf.select('Location').distinct().count()"
      ],
      "metadata": {
        "colab": {
          "base_uri": "https://localhost:8080/"
        },
        "id": "dqrI1y8FP4M7",
        "outputId": "4ae49155-b1b3-43ea-914c-652cb63861b5"
      },
      "execution_count": 180,
      "outputs": [
        {
          "output_type": "execute_result",
          "data": {
            "text/plain": [
              "181"
            ]
          },
          "metadata": {},
          "execution_count": 180
        }
      ]
    },
    {
      "cell_type": "code",
      "source": [
        "# count of unique location hackers used\n",
        "spark.sql(\"select Location,count(*) as co from sqldf group by Location\").show()"
      ],
      "metadata": {
        "colab": {
          "base_uri": "https://localhost:8080/"
        },
        "id": "rxOE89EDRzAQ",
        "outputId": "708722c7-49cb-4f1c-d0e9-b8737cbfc36b"
      },
      "execution_count": 181,
      "outputs": [
        {
          "output_type": "stream",
          "name": "stdout",
          "text": [
            "+--------------------+---+\n",
            "|            Location| co|\n",
            "+--------------------+---+\n",
            "|            Anguilla|  1|\n",
            "|            Paraguay|  2|\n",
            "|               Macao|  2|\n",
            "|Heard Island and ...|  2|\n",
            "|               Yemen|  1|\n",
            "|             Tokelau|  2|\n",
            "|              Sweden|  3|\n",
            "|French Southern T...|  3|\n",
            "|            Kiribati|  1|\n",
            "|              Guyana|  2|\n",
            "|         Philippines|  3|\n",
            "|            Malaysia|  2|\n",
            "|           Singapore|  1|\n",
            "|United States Vir...|  6|\n",
            "|              Turkey|  1|\n",
            "|      Western Sahara|  2|\n",
            "|              Malawi|  2|\n",
            "|                Iraq|  3|\n",
            "|Northern Mariana ...|  3|\n",
            "|             Germany|  1|\n",
            "+--------------------+---+\n",
            "only showing top 20 rows\n",
            "\n"
          ]
        }
      ]
    },
    {
      "cell_type": "markdown",
      "source": [
        "## Conclusion about the Location feature \n",
        "Off total 334 attacks happened there are of 181 unique loaction from where the attack was happned i.e about 54% of times. And there is utmost six attacks from a single location like Zimbabwe, United States, etc.."
      ],
      "metadata": {
        "id": "05QG8KEOQ6aW"
      }
    },
    {
      "cell_type": "code",
      "source": [
        "#getting the histogram for session conection time \n",
        "data = [go.Histogram(x=sdf.toPandas()['Session_Connection_Time'],nbinsx=40)]\n",
        "py.iplot(data)\n",
        "\n",
        "#conclusion are at last"
      ],
      "metadata": {
        "colab": {
          "base_uri": "https://localhost:8080/",
          "height": 546
        },
        "id": "FMYp1nUNdRF-",
        "outputId": "389f61af-3024-425e-b2f6-2da53f9cbd9f"
      },
      "execution_count": 182,
      "outputs": [
        {
          "output_type": "execute_result",
          "data": {
            "text/plain": [
              "<IPython.lib.display.IFrame at 0x7fe74703c7f0>"
            ],
            "text/html": [
              "\n",
              "        <iframe\n",
              "            width=\"100%\"\n",
              "            height=\"525px\"\n",
              "            src=\"https://plotly.com/~soorya0809/77.embed\"\n",
              "            frameborder=\"0\"\n",
              "            allowfullscreen\n",
              "        ></iframe>\n",
              "        "
            ]
          },
          "metadata": {},
          "execution_count": 182
        }
      ]
    },
    {
      "cell_type": "code",
      "source": [
        "#getting the histogram for Bytes Transferred  \n",
        "data = [go.Histogram(x=sdf.toPandas()['Bytes Transferred'],nbinsx=40)]\n",
        "py.iplot(data)\n",
        "\n",
        "#conclusion are at last"
      ],
      "metadata": {
        "colab": {
          "base_uri": "https://localhost:8080/",
          "height": 546
        },
        "id": "a40wH3JoRIrX",
        "outputId": "552d5bd3-907f-4f20-ad24-99bad792c4d5"
      },
      "execution_count": 183,
      "outputs": [
        {
          "output_type": "execute_result",
          "data": {
            "text/plain": [
              "<IPython.lib.display.IFrame at 0x7fe7471952b0>"
            ],
            "text/html": [
              "\n",
              "        <iframe\n",
              "            width=\"100%\"\n",
              "            height=\"525px\"\n",
              "            src=\"https://plotly.com/~soorya0809/79.embed\"\n",
              "            frameborder=\"0\"\n",
              "            allowfullscreen\n",
              "        ></iframe>\n",
              "        "
            ]
          },
          "metadata": {},
          "execution_count": 183
        }
      ]
    },
    {
      "cell_type": "code",
      "source": [
        "#getting the histogram for number of corrupted servers \n",
        "data = [go.Histogram(x=sdf.toPandas()['Servers_Corrupted'],nbinsx=40)]\n",
        "py.iplot(data)\n",
        "\n",
        "#conclusion are at last"
      ],
      "metadata": {
        "colab": {
          "base_uri": "https://localhost:8080/",
          "height": 546
        },
        "id": "dgF4-Pv_MRY2",
        "outputId": "4926f5b3-b23d-4a49-ae37-5b0d42f94e89"
      },
      "execution_count": 184,
      "outputs": [
        {
          "output_type": "execute_result",
          "data": {
            "text/plain": [
              "<IPython.lib.display.IFrame at 0x7fe74704ebb0>"
            ],
            "text/html": [
              "\n",
              "        <iframe\n",
              "            width=\"100%\"\n",
              "            height=\"525px\"\n",
              "            src=\"https://plotly.com/~soorya0809/81.embed\"\n",
              "            frameborder=\"0\"\n",
              "            allowfullscreen\n",
              "        ></iframe>\n",
              "        "
            ]
          },
          "metadata": {},
          "execution_count": 184
        }
      ]
    },
    {
      "cell_type": "code",
      "source": [
        "sdf_pd = sdf.toPandas()\n",
        "correlations = sdf_pd.corr()\n",
        "correlations"
      ],
      "metadata": {
        "colab": {
          "base_uri": "https://localhost:8080/",
          "height": 282
        },
        "id": "u3YqV66Jeq3R",
        "outputId": "08526fe0-7705-4df9-b808-5c82b5454623"
      },
      "execution_count": 185,
      "outputs": [
        {
          "output_type": "execute_result",
          "data": {
            "text/plain": [
              "                         Session_Connection_Time  Bytes Transferred  \\\n",
              "Session_Connection_Time                 1.000000           0.713861   \n",
              "Bytes Transferred                       0.713861           1.000000   \n",
              "Kali_Trace_Used                         0.034687           0.072436   \n",
              "Servers_Corrupted                       0.808394           0.739822   \n",
              "Pages_Corrupted                         0.844167           0.784081   \n",
              "WPM_Typing_Speed                       -0.866077          -0.793344   \n",
              "\n",
              "                         Kali_Trace_Used  Servers_Corrupted  Pages_Corrupted  \\\n",
              "Session_Connection_Time         0.034687           0.808394         0.844167   \n",
              "Bytes Transferred               0.072436           0.739822         0.784081   \n",
              "Kali_Trace_Used                 1.000000           0.033242         0.016931   \n",
              "Servers_Corrupted               0.033242           1.000000         0.897210   \n",
              "Pages_Corrupted                 0.016931           0.897210         1.000000   \n",
              "WPM_Typing_Speed               -0.026560          -0.915629        -0.968662   \n",
              "\n",
              "                         WPM_Typing_Speed  \n",
              "Session_Connection_Time         -0.866077  \n",
              "Bytes Transferred               -0.793344  \n",
              "Kali_Trace_Used                 -0.026560  \n",
              "Servers_Corrupted               -0.915629  \n",
              "Pages_Corrupted                 -0.968662  \n",
              "WPM_Typing_Speed                 1.000000  "
            ],
            "text/html": [
              "\n",
              "  <div id=\"df-f5419946-72e3-4782-80af-99bdcbe6dc70\">\n",
              "    <div class=\"colab-df-container\">\n",
              "      <div>\n",
              "<style scoped>\n",
              "    .dataframe tbody tr th:only-of-type {\n",
              "        vertical-align: middle;\n",
              "    }\n",
              "\n",
              "    .dataframe tbody tr th {\n",
              "        vertical-align: top;\n",
              "    }\n",
              "\n",
              "    .dataframe thead th {\n",
              "        text-align: right;\n",
              "    }\n",
              "</style>\n",
              "<table border=\"1\" class=\"dataframe\">\n",
              "  <thead>\n",
              "    <tr style=\"text-align: right;\">\n",
              "      <th></th>\n",
              "      <th>Session_Connection_Time</th>\n",
              "      <th>Bytes Transferred</th>\n",
              "      <th>Kali_Trace_Used</th>\n",
              "      <th>Servers_Corrupted</th>\n",
              "      <th>Pages_Corrupted</th>\n",
              "      <th>WPM_Typing_Speed</th>\n",
              "    </tr>\n",
              "  </thead>\n",
              "  <tbody>\n",
              "    <tr>\n",
              "      <th>Session_Connection_Time</th>\n",
              "      <td>1.000000</td>\n",
              "      <td>0.713861</td>\n",
              "      <td>0.034687</td>\n",
              "      <td>0.808394</td>\n",
              "      <td>0.844167</td>\n",
              "      <td>-0.866077</td>\n",
              "    </tr>\n",
              "    <tr>\n",
              "      <th>Bytes Transferred</th>\n",
              "      <td>0.713861</td>\n",
              "      <td>1.000000</td>\n",
              "      <td>0.072436</td>\n",
              "      <td>0.739822</td>\n",
              "      <td>0.784081</td>\n",
              "      <td>-0.793344</td>\n",
              "    </tr>\n",
              "    <tr>\n",
              "      <th>Kali_Trace_Used</th>\n",
              "      <td>0.034687</td>\n",
              "      <td>0.072436</td>\n",
              "      <td>1.000000</td>\n",
              "      <td>0.033242</td>\n",
              "      <td>0.016931</td>\n",
              "      <td>-0.026560</td>\n",
              "    </tr>\n",
              "    <tr>\n",
              "      <th>Servers_Corrupted</th>\n",
              "      <td>0.808394</td>\n",
              "      <td>0.739822</td>\n",
              "      <td>0.033242</td>\n",
              "      <td>1.000000</td>\n",
              "      <td>0.897210</td>\n",
              "      <td>-0.915629</td>\n",
              "    </tr>\n",
              "    <tr>\n",
              "      <th>Pages_Corrupted</th>\n",
              "      <td>0.844167</td>\n",
              "      <td>0.784081</td>\n",
              "      <td>0.016931</td>\n",
              "      <td>0.897210</td>\n",
              "      <td>1.000000</td>\n",
              "      <td>-0.968662</td>\n",
              "    </tr>\n",
              "    <tr>\n",
              "      <th>WPM_Typing_Speed</th>\n",
              "      <td>-0.866077</td>\n",
              "      <td>-0.793344</td>\n",
              "      <td>-0.026560</td>\n",
              "      <td>-0.915629</td>\n",
              "      <td>-0.968662</td>\n",
              "      <td>1.000000</td>\n",
              "    </tr>\n",
              "  </tbody>\n",
              "</table>\n",
              "</div>\n",
              "      <button class=\"colab-df-convert\" onclick=\"convertToInteractive('df-f5419946-72e3-4782-80af-99bdcbe6dc70')\"\n",
              "              title=\"Convert this dataframe to an interactive table.\"\n",
              "              style=\"display:none;\">\n",
              "        \n",
              "  <svg xmlns=\"http://www.w3.org/2000/svg\" height=\"24px\"viewBox=\"0 0 24 24\"\n",
              "       width=\"24px\">\n",
              "    <path d=\"M0 0h24v24H0V0z\" fill=\"none\"/>\n",
              "    <path d=\"M18.56 5.44l.94 2.06.94-2.06 2.06-.94-2.06-.94-.94-2.06-.94 2.06-2.06.94zm-11 1L8.5 8.5l.94-2.06 2.06-.94-2.06-.94L8.5 2.5l-.94 2.06-2.06.94zm10 10l.94 2.06.94-2.06 2.06-.94-2.06-.94-.94-2.06-.94 2.06-2.06.94z\"/><path d=\"M17.41 7.96l-1.37-1.37c-.4-.4-.92-.59-1.43-.59-.52 0-1.04.2-1.43.59L10.3 9.45l-7.72 7.72c-.78.78-.78 2.05 0 2.83L4 21.41c.39.39.9.59 1.41.59.51 0 1.02-.2 1.41-.59l7.78-7.78 2.81-2.81c.8-.78.8-2.07 0-2.86zM5.41 20L4 18.59l7.72-7.72 1.47 1.35L5.41 20z\"/>\n",
              "  </svg>\n",
              "      </button>\n",
              "      \n",
              "  <style>\n",
              "    .colab-df-container {\n",
              "      display:flex;\n",
              "      flex-wrap:wrap;\n",
              "      gap: 12px;\n",
              "    }\n",
              "\n",
              "    .colab-df-convert {\n",
              "      background-color: #E8F0FE;\n",
              "      border: none;\n",
              "      border-radius: 50%;\n",
              "      cursor: pointer;\n",
              "      display: none;\n",
              "      fill: #1967D2;\n",
              "      height: 32px;\n",
              "      padding: 0 0 0 0;\n",
              "      width: 32px;\n",
              "    }\n",
              "\n",
              "    .colab-df-convert:hover {\n",
              "      background-color: #E2EBFA;\n",
              "      box-shadow: 0px 1px 2px rgba(60, 64, 67, 0.3), 0px 1px 3px 1px rgba(60, 64, 67, 0.15);\n",
              "      fill: #174EA6;\n",
              "    }\n",
              "\n",
              "    [theme=dark] .colab-df-convert {\n",
              "      background-color: #3B4455;\n",
              "      fill: #D2E3FC;\n",
              "    }\n",
              "\n",
              "    [theme=dark] .colab-df-convert:hover {\n",
              "      background-color: #434B5C;\n",
              "      box-shadow: 0px 1px 3px 1px rgba(0, 0, 0, 0.15);\n",
              "      filter: drop-shadow(0px 1px 2px rgba(0, 0, 0, 0.3));\n",
              "      fill: #FFFFFF;\n",
              "    }\n",
              "  </style>\n",
              "\n",
              "      <script>\n",
              "        const buttonEl =\n",
              "          document.querySelector('#df-f5419946-72e3-4782-80af-99bdcbe6dc70 button.colab-df-convert');\n",
              "        buttonEl.style.display =\n",
              "          google.colab.kernel.accessAllowed ? 'block' : 'none';\n",
              "\n",
              "        async function convertToInteractive(key) {\n",
              "          const element = document.querySelector('#df-f5419946-72e3-4782-80af-99bdcbe6dc70');\n",
              "          const dataTable =\n",
              "            await google.colab.kernel.invokeFunction('convertToInteractive',\n",
              "                                                     [key], {});\n",
              "          if (!dataTable) return;\n",
              "\n",
              "          const docLinkHtml = 'Like what you see? Visit the ' +\n",
              "            '<a target=\"_blank\" href=https://colab.research.google.com/notebooks/data_table.ipynb>data table notebook</a>'\n",
              "            + ' to learn more about interactive tables.';\n",
              "          element.innerHTML = '';\n",
              "          dataTable['output_type'] = 'display_data';\n",
              "          await google.colab.output.renderOutput(dataTable, element);\n",
              "          const docLink = document.createElement('div');\n",
              "          docLink.innerHTML = docLinkHtml;\n",
              "          element.appendChild(docLink);\n",
              "        }\n",
              "      </script>\n",
              "    </div>\n",
              "  </div>\n",
              "  "
            ]
          },
          "metadata": {},
          "execution_count": 185
        }
      ]
    },
    {
      "cell_type": "code",
      "source": [
        "trace = go.Heatmap(z=[correlations['Session_Connection_Time'],correlations['Bytes Transferred'],\n",
        "                      correlations['Kali_Trace_Used'],correlations['Servers_Corrupted'],\n",
        "                      correlations['Pages_Corrupted'],\n",
        "                      correlations['WPM_Typing_Speed']],\n",
        "                   x = ['Session_Connection_Time','Bytes Transferred', 'Kali_Trace_Used', 'Servers_Corrupted', 'Pages_Corrupted', 'WPM_Typing_Speed'],\n",
        "                   y = ['Session_Connection_Time','Bytes Transferred', 'Kali_Trace_Used', 'Servers_Corrupted', 'Pages_Corrupted', 'WPM_Typing_Speed'])\n",
        "data = [trace]\n",
        "layout = go.Layout(title='HeatMap')\n",
        "fig = go.Figure(data=data,layout=layout)\n",
        "py.iplot(fig)"
      ],
      "metadata": {
        "colab": {
          "base_uri": "https://localhost:8080/",
          "height": 546
        },
        "id": "iUmJYCUUeiEx",
        "outputId": "c7b56f63-6c9d-4421-b325-6a33cc23d373"
      },
      "execution_count": 186,
      "outputs": [
        {
          "output_type": "execute_result",
          "data": {
            "text/plain": [
              "<IPython.lib.display.IFrame at 0x7fe747050550>"
            ],
            "text/html": [
              "\n",
              "        <iframe\n",
              "            width=\"100%\"\n",
              "            height=\"525px\"\n",
              "            src=\"https://plotly.com/~soorya0809/83.embed\"\n",
              "            frameborder=\"0\"\n",
              "            allowfullscreen\n",
              "        ></iframe>\n",
              "        "
            ]
          },
          "metadata": {},
          "execution_count": 186
        }
      ]
    },
    {
      "cell_type": "markdown",
      "source": [
        "## **Conclusion about the Bytes transfered, servers corrupted during session connection timmings feature**\n",
        "\n",
        "Here since the PDF of session connection time and bytes transfered is approzimatly same we can conclude that as time session increased more of the useful info/bytes has been transferred during attack. also it is noticable that the number of servers corrupted is increased as session timmings increases.\n",
        "\n",
        "### **Also these behaviour is noticable from the heatmap for Bytes transfered, servers corrupted during session connection timmings.**"
      ],
      "metadata": {
        "id": "tO5vVWF2b7y0"
      }
    },
    {
      "cell_type": "markdown",
      "source": [
        "# Data cleaning"
      ],
      "metadata": {
        "id": "wNl8NgxEEkwO"
      }
    },
    {
      "cell_type": "code",
      "source": [
        "#dropping location column as there is high chance that hackers may have used VPN's\n",
        "sdf = sdf.drop(\"Location\")"
      ],
      "metadata": {
        "id": "YQuTL9J8Enev"
      },
      "execution_count": 187,
      "outputs": []
    },
    {
      "cell_type": "code",
      "source": [
        "# checking for null values\n",
        "from pyspark.sql.functions import expr, col, column\n",
        "\n",
        "def null_value_count(df):\n",
        "  null_columns_counts = []\n",
        "  for k in df.columns:\n",
        "    nullRows = df.where(col(k).isNull()).count()\n",
        "    if(nullRows > 0):\n",
        "      temp = k,nullRows\n",
        "      null_columns_counts.append(temp)\n",
        "  return(null_columns_counts)\n",
        "\n",
        "null_value_count(sdf)"
      ],
      "metadata": {
        "colab": {
          "base_uri": "https://localhost:8080/"
        },
        "id": "eCurpILjE8t2",
        "outputId": "dfc18728-45b9-4acd-fcb8-3036846911fb"
      },
      "execution_count": 188,
      "outputs": [
        {
          "output_type": "execute_result",
          "data": {
            "text/plain": [
              "[]"
            ]
          },
          "metadata": {},
          "execution_count": 188
        }
      ]
    },
    {
      "cell_type": "code",
      "source": [
        "sdf.show(5)"
      ],
      "metadata": {
        "colab": {
          "base_uri": "https://localhost:8080/"
        },
        "id": "XGBf7DndGrCL",
        "outputId": "bcdf7f79-0238-4c8e-a56c-34bc98d8a88d"
      },
      "execution_count": 189,
      "outputs": [
        {
          "output_type": "stream",
          "name": "stdout",
          "text": [
            "+-----------------------+-----------------+---------------+-----------------+---------------+----------------+\n",
            "|Session_Connection_Time|Bytes Transferred|Kali_Trace_Used|Servers_Corrupted|Pages_Corrupted|WPM_Typing_Speed|\n",
            "+-----------------------+-----------------+---------------+-----------------+---------------+----------------+\n",
            "|                    8.0|           391.09|              1|             2.96|            7.0|           72.37|\n",
            "|                   20.0|           720.99|              0|             3.04|            9.0|           69.08|\n",
            "|                   31.0|           356.32|              1|             3.71|            8.0|           70.58|\n",
            "|                    2.0|           228.08|              1|             2.48|            8.0|            70.8|\n",
            "|                   20.0|            408.5|              0|             3.57|            8.0|           71.28|\n",
            "+-----------------------+-----------------+---------------+-----------------+---------------+----------------+\n",
            "only showing top 5 rows\n",
            "\n"
          ]
        }
      ]
    },
    {
      "cell_type": "markdown",
      "source": [
        "# Model Building"
      ],
      "metadata": {
        "id": "tis59F3kEeNl"
      }
    },
    {
      "cell_type": "code",
      "source": [
        "# converting the data into vector using vector assembler, that converts a set of features into a single vector column.\n",
        "from pyspark.ml.clustering import KMeans\n",
        "from pyspark.ml.feature import VectorAssembler\n",
        "\n",
        "assemble = VectorAssembler(inputCols= sdf.columns, outputCol='features')\n",
        "assembled_data = assemble.transform(sdf)\n",
        "assembled_data.show(5)"
      ],
      "metadata": {
        "colab": {
          "base_uri": "https://localhost:8080/"
        },
        "id": "BB0vb-VEDzqJ",
        "outputId": "ab3b4383-6584-4005-88e8-ad9bdac33429"
      },
      "execution_count": 190,
      "outputs": [
        {
          "output_type": "stream",
          "name": "stdout",
          "text": [
            "+-----------------------+-----------------+---------------+-----------------+---------------+----------------+--------------------+\n",
            "|Session_Connection_Time|Bytes Transferred|Kali_Trace_Used|Servers_Corrupted|Pages_Corrupted|WPM_Typing_Speed|            features|\n",
            "+-----------------------+-----------------+---------------+-----------------+---------------+----------------+--------------------+\n",
            "|                    8.0|           391.09|              1|             2.96|            7.0|           72.37|[8.0,391.09,1.0,2...|\n",
            "|                   20.0|           720.99|              0|             3.04|            9.0|           69.08|[20.0,720.99,0.0,...|\n",
            "|                   31.0|           356.32|              1|             3.71|            8.0|           70.58|[31.0,356.32,1.0,...|\n",
            "|                    2.0|           228.08|              1|             2.48|            8.0|            70.8|[2.0,228.08,1.0,2...|\n",
            "|                   20.0|            408.5|              0|             3.57|            8.0|           71.28|[20.0,408.5,0.0,3...|\n",
            "+-----------------------+-----------------+---------------+-----------------+---------------+----------------+--------------------+\n",
            "only showing top 5 rows\n",
            "\n"
          ]
        }
      ]
    },
    {
      "cell_type": "code",
      "source": [
        "# scaling the data since kmeans uses the distance measure(Euclidean distance) \n",
        "from pyspark.ml.feature import StandardScaler\n",
        "\n",
        "scale = StandardScaler(inputCol='features', outputCol='standardized')\n",
        "data_scale = scale.fit(assembled_data)\n",
        "data_scale_output = data_scale.transform(assembled_data)\n",
        "data_scale_output.show(2)"
      ],
      "metadata": {
        "colab": {
          "base_uri": "https://localhost:8080/"
        },
        "id": "4mEhl8mPKgUx",
        "outputId": "55644f99-dd48-4f0b-b804-37a17248a2ec"
      },
      "execution_count": 191,
      "outputs": [
        {
          "output_type": "stream",
          "name": "stdout",
          "text": [
            "+-----------------------+-----------------+---------------+-----------------+---------------+----------------+--------------------+--------------------+\n",
            "|Session_Connection_Time|Bytes Transferred|Kali_Trace_Used|Servers_Corrupted|Pages_Corrupted|WPM_Typing_Speed|            features|        standardized|\n",
            "+-----------------------+-----------------+---------------+-----------------+---------------+----------------+--------------------+--------------------+\n",
            "|                    8.0|           391.09|              1|             2.96|            7.0|           72.37|[8.0,391.09,1.0,2...|[0.56785108466505...|\n",
            "|                   20.0|           720.99|              0|             3.04|            9.0|           69.08|[20.0,720.99,0.0,...|[1.41962771166263...|\n",
            "+-----------------------+-----------------+---------------+-----------------+---------------+----------------+--------------------+--------------------+\n",
            "only showing top 2 rows\n",
            "\n"
          ]
        }
      ]
    },
    {
      "cell_type": "code",
      "source": [
        "# importing libraries for model building\n",
        "from pyspark.ml.clustering import KMeans\n",
        "from pyspark.ml.evaluation import ClusteringEvaluator"
      ],
      "metadata": {
        "id": "WpLG5-iCKgRO"
      },
      "execution_count": 192,
      "outputs": []
    },
    {
      "cell_type": "code",
      "source": [
        "# Hyper parameter tunning for optimal k value in kmeans and using the silhouette score\n",
        "silhouette_score=[]\n",
        "evaluator = ClusteringEvaluator(predictionCol='prediction', featuresCol='standardized', metricName='silhouette', distanceMeasure='squaredEuclidean')\n",
        "for i in range(2,10):\n",
        "    KMeans_algo = KMeans(featuresCol='standardized', k=i)\n",
        "    KMeans_fit = KMeans_algo.fit(data_scale_output)    \n",
        "    output = KMeans_fit.transform(data_scale_output)\n",
        "    score=evaluator.evaluate(output)    \n",
        "    silhouette_score.append(score)    \n",
        "    print(\"Silhouette Score for \",i,\" is \",score)"
      ],
      "metadata": {
        "colab": {
          "base_uri": "https://localhost:8080/"
        },
        "id": "R1_1X5CoKgOz",
        "outputId": "86ac80f6-2f17-4048-ac1c-5b7df4461a49"
      },
      "execution_count": 193,
      "outputs": [
        {
          "output_type": "stream",
          "name": "stdout",
          "text": [
            "Silhouette Score for  2  is  0.8176460094012482\n",
            "Silhouette Score for  3  is  0.755239186655932\n",
            "Silhouette Score for  4  is  0.7195901966635138\n",
            "Silhouette Score for  5  is  0.6336971919009308\n",
            "Silhouette Score for  6  is  0.5704407152825404\n",
            "Silhouette Score for  7  is  0.5702368109553203\n",
            "Silhouette Score for  8  is  0.5235562506999034\n",
            "Silhouette Score for  9  is  0.4511926859808334\n"
          ]
        }
      ]
    },
    {
      "cell_type": "code",
      "source": [
        "#Visualizing the silhouette scores in a plot and we can see the highest value is when k =2\n",
        "import matplotlib.pyplot as plt\n",
        "fig, ax = plt.subplots(1,1, figsize =(8,6))\n",
        "ax.plot(range(2,10),silhouette_score)\n",
        "ax.set_xlabel('K Values')\n",
        "ax.set_ylabel('silhouette score')"
      ],
      "metadata": {
        "colab": {
          "base_uri": "https://localhost:8080/",
          "height": 411
        },
        "id": "aPsrsrMwO2Q_",
        "outputId": "32654edb-8171-4f6d-edc4-083a3d0d6fc6"
      },
      "execution_count": 194,
      "outputs": [
        {
          "output_type": "execute_result",
          "data": {
            "text/plain": [
              "Text(0, 0.5, 'silhouette score')"
            ]
          },
          "metadata": {},
          "execution_count": 194
        },
        {
          "output_type": "display_data",
          "data": {
            "text/plain": [
              "<Figure size 576x432 with 1 Axes>"
            ],
            "image/png": "[encoded data removed]"
          },
          "metadata": {
            "needs_background": "light"
          }
        }
      ]
    },
    {
      "cell_type": "code",
      "source": [
        "# clustering or groupung with optimal k value i.e... k=2\n",
        "KMeans_algo = KMeans(featuresCol='standardized', k=2)\n",
        "KMeans_fit = KMeans_algo.fit(data_scale_output)    \n",
        "output = KMeans_fit.transform(data_scale_output)\n",
        "score=evaluator.evaluate(output)\n",
        "output.show(5)"
      ],
      "metadata": {
        "colab": {
          "base_uri": "https://localhost:8080/"
        },
        "id": "s6fKYHzHTuKr",
        "outputId": "6281dfc5-524c-4c99-f7c5-9dc4c005adba"
      },
      "execution_count": 195,
      "outputs": [
        {
          "output_type": "stream",
          "name": "stdout",
          "text": [
            "+-----------------------+-----------------+---------------+-----------------+---------------+----------------+--------------------+--------------------+----------+\n",
            "|Session_Connection_Time|Bytes Transferred|Kali_Trace_Used|Servers_Corrupted|Pages_Corrupted|WPM_Typing_Speed|            features|        standardized|prediction|\n",
            "+-----------------------+-----------------+---------------+-----------------+---------------+----------------+--------------------+--------------------+----------+\n",
            "|                    8.0|           391.09|              1|             2.96|            7.0|           72.37|[8.0,391.09,1.0,2...|[0.56785108466505...|         0|\n",
            "|                   20.0|           720.99|              0|             3.04|            9.0|           69.08|[20.0,720.99,0.0,...|[1.41962771166263...|         0|\n",
            "|                   31.0|           356.32|              1|             3.71|            8.0|           70.58|[31.0,356.32,1.0,...|[2.20042295307707...|         0|\n",
            "|                    2.0|           228.08|              1|             2.48|            8.0|            70.8|[2.0,228.08,1.0,2...|[0.14196277116626...|         0|\n",
            "|                   20.0|            408.5|              0|             3.57|            8.0|           71.28|[20.0,408.5,0.0,3...|[1.41962771166263...|         0|\n",
            "+-----------------------+-----------------+---------------+-----------------+---------------+----------------+--------------------+--------------------+----------+\n",
            "only showing top 5 rows\n",
            "\n"
          ]
        }
      ]
    },
    {
      "cell_type": "code",
      "source": [
        "# numbers of records of both clusters\n",
        "output.groupBy(\"prediction\").count().show()"
      ],
      "metadata": {
        "colab": {
          "base_uri": "https://localhost:8080/"
        },
        "id": "8C0AZLdhWwPp",
        "outputId": "b8dc3f75-8099-4b7d-d505-0033d3cff425"
      },
      "execution_count": 196,
      "outputs": [
        {
          "output_type": "stream",
          "name": "stdout",
          "text": [
            "+----------+-----+\n",
            "|prediction|count|\n",
            "+----------+-----+\n",
            "|         1|  167|\n",
            "|         0|  167|\n",
            "+----------+-----+\n",
            "\n"
          ]
        }
      ]
    },
    {
      "cell_type": "markdown",
      "source": [
        "### **Solution**: \n",
        "#### Perform clustering on this data if we can make only two possible clusters then its confirmed that 2 hackers has involved else we can conclude 3 of the hackers were in the activity.\n",
        "# **Conclusion** :\n",
        "### Since the optimal number of clusters formed here are **two**, we can conclude that **only two hackers were involved in this hack. And we can also verify that both hackers were involved in 167 activity each.**"
      ],
      "metadata": {
        "id": "AHgE_SThQj4z"
      }
    },
    {
      "cell_type": "code",
      "source": [],
      "metadata": {
        "id": "sl0FYw7Rj09y"
      },
      "execution_count": null,
      "outputs": []
    }
  ],
  "metadata": {
    "anaconda-cloud": {},
    "kernelspec": {
      "display_name": "Python 3 (ipykernel)",
      "language": "python",
      "name": "python3"
    },
    "language_info": {
      "codemirror_mode": {
        "name": "ipython",
        "version": 3
      },
      "file_extension": ".py",
      "mimetype": "text/x-python",
      "name": "python",
      "nbconvert_exporter": "python",
      "pygments_lexer": "ipython3",
      "version": "3.9.13"
    },
    "colab": {
      "provenance": []
    }
  },
  "nbformat": 4,
  "nbformat_minor": 0
}